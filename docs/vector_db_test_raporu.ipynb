{
 "cells": [
  {
   "metadata": {},
   "cell_type": "markdown",
   "source": [
    "# Vektör Veritabanı (ChromaDB) Kurulum ve Test Raporu\n",
    "\n",
    "**Oluşturan:** Emre Yağız Koçak\n",
    "**Tarih:** 08.10.2025\n",
    "\n",
    "### Amaç\n",
    "Bu notebook, \"PaperMate\" projesi için `chromadb` kütüphanesinin temel işlevlerini test etmek ve anlamsal arama (semantic search) yeteneğini canlı olarak doğrulamak amacıyla oluşturulmuştur."
   ],
   "id": "ae049c6979c7381a"
  },
  {
   "metadata": {
    "ExecuteTime": {
     "end_time": "2025-10-11T11:58:25.701523Z",
     "start_time": "2025-10-11T11:58:25.273670Z"
    }
   },
   "cell_type": "code",
   "source": [
    "import chromadb\n",
    "\n",
    "#chroma'ya bağlanmak için bir istemci eklendi.\n",
    "client = chromadb.Client()\n",
    "#koleksiyon oluşturma kısmı.\n",
    "collection = client.get_or_create_collection(name = 'test_collection')\n",
    "#koleksiyona birkaç cümle ekleme\n",
    "collection.add(\n",
    "    documents = [\n",
    "        \"Ben 21 yaşındayım.\",\n",
    "        \"Yapay zeka çok ilginç\",\n",
    "        \"Ankara'da yaşıyorum.\"\n",
    "    ],\n",
    "    ids = [\"id1\", \"id2\", \"id3\"]\n",
    ")\n",
    "#search test\n",
    "results = collection.query(\n",
    "    #bu aramayı yaptığımız zaman muhtemelen bize \"Yapay zeka çok ilgiç\" cümlesini getirecek\n",
    "    query_texts = [\"Yapay zeka uygulamaları\"],\n",
    "    n_results = 1\n",
    ")\n",
    "print(\"Arama sonuçları:\")\n",
    "print(results)\n",
    "\n"
   ],
   "id": "541a4dc60eb583d7",
   "outputs": [
    {
     "name": "stdout",
     "output_type": "stream",
     "text": [
      "Arama sonuçları:\n",
      "{'ids': [['id2']], 'embeddings': None, 'documents': [['Yapay zeka çok ilginç']], 'uris': None, 'included': ['metadatas', 'documents', 'distances'], 'data': None, 'metadatas': [[None]], 'distances': [[0.6178832054138184]]}\n"
     ]
    }
   ],
   "execution_count": 2
  },
  {
   "metadata": {},
   "cell_type": "markdown",
   "source": [
    "### Değerlendirme\n",
    "\n",
    "Yukarıdaki kod hücresi çalıştırıldığında, **\"Yapay zeka uygulamaları\"** sorgusuna anlamsal olarak en yakın sonucun, koleksiyondaki **\"Yapay zeka çok ilginç.\"** cümlesi olduğu başarıyla tespit edilmiştir.\n",
    "\n",
    "Bu test, ChromaDB'nin temel vektör arama işlevinin doğru çalıştığını kanıtlamaktadır."
   ],
   "id": "8f0fab94b29e25c0"
  }
 ],
 "metadata": {
  "kernelspec": {
   "display_name": "Python 3",
   "language": "python",
   "name": "python3"
  },
  "language_info": {
   "codemirror_mode": {
    "name": "ipython",
    "version": 2
   },
   "file_extension": ".py",
   "mimetype": "text/x-python",
   "name": "python",
   "nbconvert_exporter": "python",
   "pygments_lexer": "ipython2",
   "version": "2.7.6"
  }
 },
 "nbformat": 4,
 "nbformat_minor": 5
}
