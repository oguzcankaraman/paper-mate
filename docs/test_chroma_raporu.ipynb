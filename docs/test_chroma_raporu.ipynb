{
 "cells": [
  {
   "metadata": {},
   "cell_type": "markdown",
   "source": [
    "# ChromaDB Temel Test ve Prototip Raporu\n",
    "\n",
    "**Oluşturan:** [Emre Yağız Koçak]\n",
    "**Tarih:** 12.10.2025\n",
    "\n",
    "### Amaç\n",
    "Bu notebook, `chromadb` ve `langchain` kütüphanelerini kullanarak temel bir vektör veritabanı prototipi oluşturma adımlarını belgelemektedir. Amaç, veri ekleme ve anlamsal arama (semantic search) fonksiyonlarının çalıştığını doğrulamaktır. Bu script, daha sonra geliştirilecek olan `VectorStore` sınıfı için bir temel oluşturmuştur."
   ],
   "id": "37afac309f2b97b5"
  },
  {
   "metadata": {
    "ExecuteTime": {
     "end_time": "2025-10-12T09:37:36.949241Z",
     "start_time": "2025-10-12T09:37:35.240725Z"
    }
   },
   "cell_type": "code",
   "source": [
    "# Gerekli kütüphaneler\n",
    "import chromadb\n",
    "from typing import Optional\n",
    "from langchain_core.documents import Document\n",
    "\n",
    "\n",
    "# ChromaDB'ye bağlanmak için bir istemci (client)\n",
    "client = chromadb.Client()\n",
    "\n",
    "# 'test_collection' adında bir koleksiyon oluşturma\n",
    "# Koleksiyonlar, verilerimizi gruplandırdığımız alanlardır.\n",
    "collection = client.get_or_create_collection(name='test_collection')\n",
    "\n",
    "print(\"ChromaDB istemcisi ve koleksiyonu başarıyla yüklendi.\")"
   ],
   "id": "1f00f50841975d59",
   "outputs": [
    {
     "name": "stdout",
     "output_type": "stream",
     "text": [
      "ChromaDB istemcisi ve koleksiyonu başarıyla yüklendi.\n"
     ]
    }
   ],
   "execution_count": 3
  },
  {
   "metadata": {
    "ExecuteTime": {
     "end_time": "2025-10-12T09:37:37.299803Z",
     "start_time": "2025-10-12T09:37:36.984157Z"
    }
   },
   "cell_type": "code",
   "source": [
    "# LangChain'in Document nesnelerini kullanarak test verileri oluşturma\n",
    "documents_to_add = [\n",
    "    Document(\n",
    "        page_content=\"Ben 21 yaşındayım.\",\n",
    "        metadata={\"source\": \"mammal-pets-doc\"},\n",
    "    ),\n",
    "    Document(\n",
    "        page_content=\"Yapay zeka çok ilginç.\",\n",
    "        metadata={\"source\": \"mammal-pets-doc\"},\n",
    "    ),\n",
    "    Document(\n",
    "        page_content=\"Ankara'da yaşıyorum.\",\n",
    "        metadata={\"source\": \"mammal-pets-doc\"},\n",
    "    )\n",
    "]\n",
    "\n",
    "contents = [doc.page_content for doc in documents_to_add]\n",
    "metadatas = [doc.metadata for doc in documents_to_add]\n",
    "ids = [f\"id{i+1}\" for i in range(len(documents_to_add))]\n",
    "\n",
    "# Sadece koleksiyon boşsa dokümanları ekle\n",
    "# bu hücre tekrar çalıştırıldığında hatayı engeller.\n",
    "if collection.count() == 0:\n",
    "    print(\"Koleksiyon boş, dokümanlar ekleniyor...\")\n",
    "    collection.add(\n",
    "        documents=contents,\n",
    "        metadatas=metadatas,\n",
    "        ids=ids\n",
    "    )\n",
    "\n",
    "# Ekleme işleminden sonra koleksiyondaki doküman sayısını kontrol etme kısmı.\n",
    "print(f\"Koleksiyonda toplam {collection.count()} adet doküman var.\")"
   ],
   "id": "6212840e8f6d54f9",
   "outputs": [
    {
     "name": "stdout",
     "output_type": "stream",
     "text": [
      "Koleksiyon boş, dokümanlar ekleniyor...\n",
      "Koleksiyonda toplam 3 adet doküman var.\n"
     ]
    }
   ],
   "execution_count": 4
  },
  {
   "metadata": {
    "ExecuteTime": {
     "end_time": "2025-10-12T09:37:41.156724Z",
     "start_time": "2025-10-12T09:37:41.153067Z"
    }
   },
   "cell_type": "code",
   "source": [
    "# Arama mantığı\n",
    "def find_document(query: str) -> Optional[Document]:\n",
    "    \"\"\"\n",
    "    Verilen bir sorguya göre koleksiyondaki en alakalı tek dokümanı\n",
    "    içeriği ve metadatasıyla birlikte bir Document nesnesi olarak bulur.\n",
    "    \"\"\"\n",
    "    results = collection.query(\n",
    "        query_texts=[query],\n",
    "        n_results=1,\n",
    "        include=[\"metadatas\", \"documents\"]\n",
    "    )\n",
    "\n",
    "    if results and results['documents'][0]:\n",
    "        page_content = results['documents'][0][0]\n",
    "        metadata = results['metadatas'][0][0]\n",
    "        return Document(page_content=page_content, metadata=metadata)\n",
    "    else:\n",
    "        return None\n",
    "\n",
    "print(\"`find_document` fonksiyonu tanımlandı.\")"
   ],
   "id": "5bffae2c4dbfa2c0",
   "outputs": [
    {
     "name": "stdout",
     "output_type": "stream",
     "text": [
      "`find_document` fonksiyonu tanımlandı.\n"
     ]
    }
   ],
   "execution_count": 6
  },
  {
   "metadata": {
    "ExecuteTime": {
     "end_time": "2025-10-12T09:37:44.008655Z",
     "start_time": "2025-10-12T09:37:43.831056Z"
    }
   },
   "cell_type": "code",
   "source": [
    "# örnek arama\n",
    "search_query = \"Yapay zeka uygulamaları\"\n",
    "found_doc = find_document(search_query)\n",
    "\n",
    "print(f\"'{search_query}' araması için bulunan sonuç:\")\n",
    "\n",
    "# Dönen sonucun bir Document nesnesi olup olmadığını kontrol edip detayları yazma kısmı.\n",
    "if found_doc:\n",
    "    print(\"Bulunan Döküman Tipi:\", type(found_doc))\n",
    "    print(\"Döküman İçeriği:\", found_doc.page_content)\n",
    "    print(\"Döküman Metadatası:\", found_doc.metadata)\n",
    "else:\n",
    "    print(\"İlgili doküman bulunamadı.\")"
   ],
   "id": "f71f102702f29945",
   "outputs": [
    {
     "name": "stdout",
     "output_type": "stream",
     "text": [
      "'Yapay zeka uygulamaları' araması için bulunan sonuç:\n",
      "Bulunan Döküman Tipi: <class 'langchain_core.documents.base.Document'>\n",
      "Döküman İçeriği: Yapay zeka çok ilginç.\n",
      "Döküman Metadatası: {'source': 'mammal-pets-doc'}\n"
     ]
    }
   ],
   "execution_count": 7
  },
  {
   "metadata": {},
   "cell_type": "markdown",
   "source": "Sonuc olarak test_RAG.py da kullanılacak fonksiyon eklendi.\n",
   "id": "8cc9771cc1797076"
  },
  {
   "metadata": {},
   "cell_type": "markdown",
   "source": "",
   "id": "14ac70552eba8d14"
  }
 ],
 "metadata": {
  "kernelspec": {
   "display_name": "Python 3",
   "language": "python",
   "name": "python3"
  },
  "language_info": {
   "codemirror_mode": {
    "name": "ipython",
    "version": 2
   },
   "file_extension": ".py",
   "mimetype": "text/x-python",
   "name": "python",
   "nbconvert_exporter": "python",
   "pygments_lexer": "ipython2",
   "version": "2.7.6"
  }
 },
 "nbformat": 4,
 "nbformat_minor": 5
}
