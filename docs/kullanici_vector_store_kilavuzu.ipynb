{
 "cells": [
  {
   "metadata": {},
   "cell_type": "markdown",
   "source": [
    "# Kullanıcı Bazlı VectorStore Sınıfı Dokümantasyonu\n",
    "\n",
    "**Oluşturan:** [Emre Yağız Koçak]\n",
    "**Tarih:** 13.10.2025\n",
    "\n",
    "### Amaç\n",
    "Bu notebook, her kullanıcı için ayrı bir koleksiyon yönetimi sağlayan `VectorStore` sınıfını belgelemektedir. Sınıf, bir `user_id` ile başlatılır ve tüm veritabanı işlemlerini (ekleme, arama, silme) bu kullanıcıya özel koleksiyon üzerinde gerçekleştirir. Bu yapı, çok kullanıcılı bir sistemde veri izolasyonunu sağlar."
   ],
   "id": "ec33bb736264484b"
  },
  {
   "metadata": {
    "ExecuteTime": {
     "end_time": "2025-10-12T23:02:22.635781Z",
     "start_time": "2025-10-12T23:02:21.113788Z"
    }
   },
   "cell_type": "code",
   "source": [
    "import chromadb\n",
    "from typing import Optional, List\n",
    "from langchain_core.documents import Document\n",
    "\n",
    "class VectorStore:\n",
    "    def __init__(self, user_id: str):\n",
    "        \"\"\"\n",
    "        Sınıfı belirtilen kullanıcı ID'si için başlatır.\n",
    "        Kalıcı bir veritabanı istemcisi oluşturur ve kullanıcıya özel bir koleksiyon yükler.\n",
    "        \"\"\"\n",
    "        self.user_id = user_id\n",
    "        # Veritabanını kalıcı olarak 'chroma_db' klasöründe saklar\n",
    "        self.client = chromadb.PersistentClient(path=\"./chroma_db\")\n",
    "        # Her kullanıcı için, ID'sini içeren benzersiz bir koleksiyon adı oluşturur\n",
    "        self.collection = self.client.get_or_create_collection(\n",
    "            name=f'user_{user_id}_collection'\n",
    "        )\n",
    "        print(f\"Kullanıcı '{user_id}' için VectorStore başlatıldı. Koleksiyon: '{self.collection.name}'\")\n",
    "\n",
    "    def add_user_documents(self, documents: List[Document]):\n",
    "        \"\"\"Kullanıcının yüklediği dökümanları koleksiyona ekler.\"\"\"\n",
    "        # Yeni doküman eklemeden önce mevcut koleksiyonu temizleyelim.\n",
    "        if self.collection.count() > 0:\n",
    "            print(\"Mevcut koleksiyon temizleniyor...\")\n",
    "            self.delete_collection()\n",
    "            self.collection = self.client.get_or_create_collection(name=f'user_{self.user_id}_collection')\n",
    "\n",
    "        print(f\"{len(documents)} adet doküman koleksiyona ekleniyor...\")\n",
    "        contents = [doc.page_content for doc in documents]\n",
    "        metadatas = [{\"user_id\": self.user_id, **doc.metadata} for doc in documents]\n",
    "        ids = [f\"user_{self.user_id}_doc_{i}\" for i in range(len(documents))]\n",
    "        self.collection.add(documents=contents, metadatas=metadatas, ids=ids)\n",
    "        print(\"Dokümanlar başarıyla eklendi.\")\n",
    "\n",
    "    def find_document(self, query: str) -> Optional[Document]:\n",
    "        \"\"\"Sadece bu kullanıcının koleksiyonunda en alakalı tek dokümanı arar.\"\"\"\n",
    "        results = self.collection.query(\n",
    "            query_texts=[query],\n",
    "            n_results=1,\n",
    "            include=[\"metadatas\", \"documents\"]\n",
    "        )\n",
    "        if results and results['documents'][0]:\n",
    "            page_content = results['documents'][0][0]\n",
    "            metadata = results['metadatas'][0][0]\n",
    "            return Document(page_content=page_content, metadata=metadata)\n",
    "        return None\n",
    "\n",
    "    def delete_collection(self):\n",
    "        \"\"\"Mevcut kullanıcının koleksiyonunu veritabanından tamamen siler.\"\"\"\n",
    "        print(f\"\\n'{self.collection.name}' koleksiyonu siliniyor...\")\n",
    "        try:\n",
    "            self.client.delete_collection(name=self.collection.name)\n",
    "            print(\"Koleksiyon başarıyla silindi.\")\n",
    "        except Exception as e:\n",
    "            print(f\"Koleksiyon silinirken bir hata oluştu: {e}\")\n",
    "\n",
    "print(\"VectorStore sınıfı başarıyla tanımlandı ve kullanıma hazır.\")"
   ],
   "id": "6ddbaf7f6044731d",
   "outputs": [
    {
     "name": "stdout",
     "output_type": "stream",
     "text": [
      "VectorStore sınıfı başarıyla tanımlandı ve kullanıma hazır.\n"
     ]
    }
   ],
   "execution_count": 1
  },
  {
   "metadata": {},
   "cell_type": "markdown",
   "source": [
    "### Canlı Test ve Kullanım Örneği\n",
    "\n",
    "Aşağıdaki hücreler, `VectorStore` sınıfının nasıl kullanılacağını adım adım göstermektedir."
   ],
   "id": "ada2546839399420"
  },
  {
   "metadata": {
    "ExecuteTime": {
     "end_time": "2025-10-12T23:02:28.107378Z",
     "start_time": "2025-10-12T23:02:27.925167Z"
    }
   },
   "cell_type": "code",
   "source": [
    "# Test için bir kullanıcı ID'si belirleyelim\n",
    "test_user_id = \"user_abc_123\"\n",
    "\n",
    "# VectorStore'u bu kullanıcı için başlatalım\n",
    "# Bu işlem, 'chroma_db' klasörü altında bu kullanıcıya özel bir koleksiyon oluşturacak veya yükleyecektir.\n",
    "user_vector_store = VectorStore(user_id=test_user_id)"
   ],
   "id": "4e7d1e0f90756a1f",
   "outputs": [
    {
     "name": "stdout",
     "output_type": "stream",
     "text": [
      "Kullanıcı 'user_abc_123' için VectorStore başlatıldı. Koleksiyon: 'user_user_abc_123_collection'\n"
     ]
    }
   ],
   "execution_count": 2
  },
  {
   "metadata": {
    "ExecuteTime": {
     "end_time": "2025-10-12T23:02:31.288457Z",
     "start_time": "2025-10-12T23:02:30.888743Z"
    }
   },
   "cell_type": "code",
   "source": [
    "# Kullanıcının ekleyeceği sahte dokümanları oluşturalım\n",
    "sample_docs = [\n",
    "    Document(page_content=\"Yapay zeka etiği, algoritmaların adil ve şeffaf olmasını amaçlar.\", metadata={\"source\": \"makale_1.pdf\"}),\n",
    "    Document(page_content=\"Ankara, Türkiye'nin başkenti ve en kalabalık ikinci şehridir.\", metadata={\"source\": \"cografya_kitabi.pdf\"}),\n",
    "    Document(page_content=\"Fotosentez, bitkilerin güneş ışığını kullanarak besin üretme sürecidir.\", metadata={\"source\": \"biyoloji_ders_notu.pdf\"})\n",
    "]\n",
    "\n",
    "# Bu dokümanları kullanıcının koleksiyonuna ekleyelim\n",
    "user_vector_store.add_user_documents(documents=sample_docs)\n",
    "\n",
    "# Koleksiyonun güncel durumunu kontrol edelim\n",
    "print(f\"Ekleme sonrası koleksiyondaki doküman sayısı: {user_vector_store.collection.count()}\")"
   ],
   "id": "28e64ba411f7ba26",
   "outputs": [
    {
     "name": "stdout",
     "output_type": "stream",
     "text": [
      "3 adet doküman koleksiyona ekleniyor...\n",
      "Dokümanlar başarıyla eklendi.\n",
      "Ekleme sonrası koleksiyondaki doküman sayısı: 3\n"
     ]
    }
   ],
   "execution_count": 3
  },
  {
   "metadata": {
    "ExecuteTime": {
     "end_time": "2025-10-12T23:02:34.751843Z",
     "start_time": "2025-10-12T23:02:34.561615Z"
    }
   },
   "cell_type": "code",
   "source": [
    "# Bir arama yaparak `find_document` metodunu test edelim\n",
    "search_query = \"Ülkemizin başkenti neresidir?\"\n",
    "found_doc = user_vector_store.find_document(search_query)\n",
    "\n",
    "print(f\"'{search_query}' araması için bulunan sonuç:\")\n",
    "if found_doc:\n",
    "    print(f\"  İçerik: {found_doc.page_content}\")\n",
    "    print(f\"  Metadata: {found_doc.metadata}\")\n",
    "else:\n",
    "    print(\"  İlgili doküman bulunamadı.\")"
   ],
   "id": "ff36a6be3af82c24",
   "outputs": [
    {
     "name": "stdout",
     "output_type": "stream",
     "text": [
      "'Ülkemizin başkenti neresidir?' araması için bulunan sonuç:\n",
      "  İçerik: Ankara, Türkiye'nin başkenti ve en kalabalık ikinci şehridir.\n",
      "  Metadata: {'source': 'cografya_kitabi.pdf', 'user_id': 'user_abc_123'}\n"
     ]
    }
   ],
   "execution_count": 4
  },
  {
   "metadata": {
    "ExecuteTime": {
     "end_time": "2025-10-12T23:02:37.550667Z",
     "start_time": "2025-10-12T23:02:37.520320Z"
    }
   },
   "cell_type": "code",
   "source": [
    "# Test bittikten sonra temizlik için `delete_collection` metodunu çağıralım\n",
    "# Bu, kullanıcının tüm verilerini veritabanından kaldıracaktır.\n",
    "user_vector_store.delete_collection()\n",
    "\n",
    "# Silme sonrası koleksiyonun durumunu kontrol etmeye çalışalım (hata vermesi beklenir)\n",
    "try:\n",
    "    # Yeniden bir istemci oluşturup koleksiyonu sorgulamaya çalışalım\n",
    "    client = chromadb.PersistentClient(path=\"./chroma_db\")\n",
    "    collection = client.get_collection(name=f'user_{test_user_id}_collection')\n",
    "    print(f\"Silme sonrası doküman sayısı: {collection.count()}\")\n",
    "except Exception as e:\n",
    "    print(f\"\\nSilme sonrası koleksiyona erişmeye çalışırken beklenen hata alındı, işlem başarılı: {e}\")"
   ],
   "id": "2e8731be9d119f94",
   "outputs": [
    {
     "name": "stdout",
     "output_type": "stream",
     "text": [
      "\n",
      "'user_user_abc_123_collection' koleksiyonu siliniyor...\n",
      "Koleksiyon başarıyla silindi.\n",
      "\n",
      "Silme sonrası koleksiyona erişmeye çalışırken beklenen hata alındı, işlem başarılı: Collection [user_user_abc_123_collection] does not exists\n"
     ]
    }
   ],
   "execution_count": 5
  },
  {
   "metadata": {},
   "cell_type": "markdown",
   "source": [
    "### Değerlendirme: VectorStore Modülünün Projedeki Önemi ve İşlevi\n",
    "\n",
    "Bu notebook'ta geliştirilen `VectorStore` sınıfı, \"PaperMate\" projesinin sadece bir parçası değil, aynı zamanda en temel yapı taşlarından biridir. Bu modülün projedeki rolünü ve önemini şu şekilde özetleyebiliriz:\n",
    "\n",
    "**1. Projenin Uzun Süreli Hafızası:**\n",
    "VectorStore, işlenen tüm akademik makalelerin anlamsal olarak depolandığı \"uzun süreli hafızadır\". Team 1'in PDF'lerden çıkardığı ham metinler, bu sistem sayesinde anlamsal bir zekaya sahip, aranabilir bir bilgi kütüphanesine dönüşür. Bu hafıza olmadan, her kullanıcı sorusunda tüm PDF'leri baştan sona taramak zorunda kalırdık, ki bu hem çok yavaş hem de verimsiz olurdu.\n",
    "\n",
    "**2. Anlamsal Arama (Keyword Aramanın Ötesi):**\n",
    "Geleneksel veritabanları anahtar kelime (keyword) ile arama yaparken, VectorStore **anlam** ile arama yapar. Bir kullanıcı \"mitoz bölünmenin aşamaları\" diye sorduğunda, metinde tam olarak bu ifade geçmese bile \"hücre bölünmesinin evreleri\" gibi anlamsal olarak yakın olan kısımları bulup getirebilir. [cite_start]Bu yetenek, projenin \"akıllı\" asistan olmasını sağlayan temel özelliktir. [cite: 4]\n",
    "\n",
    "**3. RAG Sisteminin \"R\" Harfi (Retrieval):**\n",
    "Projemizin kalbinde yatan RAG (Retrieval-Augmented Generation) modelinin ilk ve en önemli adımı \"Retrieval\" (Bilgiyi Getirme)'dir. `VectorStore` sınıfının `similarity_search` (bizim kodumuzdaki `find_document`) metodu, bu adımın doğrudan karşılığıdır. Team 2'nin geliştirdiği dil modeli (LLM), ne kadar zeki olursa olsun, doğru bilgiye erişemediği sürece doğru cevaplar üretemez. Bizim modülümüz, LLM'e cevap üretmesi için gereken doğru ve alakalı \"bağlamı\" (context) sunar.\n",
    "\n",
    "**4. Veri İzolasyonu ve Ölçeklenebilirlik:**\n",
    "[cite_start]Geliştirdiğimiz son sınıf yapısı, her kullanıcı veya her makale için ayrı koleksiyonlar oluşturma yeteneğine sahiptir. [cite: 120] Bu, kullanıcı verilerinin birbirine karışmasını engeller (veri izolasyonu) ve gelecekte binlerce makaleyi veya kullanıcıyı yönetecek şekilde sistemin kolayca ölçeklenmesine olanak tanır.\n",
    "\n",
    "Kısacası, **VectorStore modülü, ham ve anlamsız metin yığınları ile cevap üreten yapay zeka arasında bir köprü görevi görür.** Bu köprü olmadan, projenin temel hedefi olan akademik makalelerle \"sohbet etme\" yeteneği mümkün olmazdı."
   ],
   "id": "b4378ba9d9630ff8"
  }
 ],
 "metadata": {
  "kernelspec": {
   "display_name": "Python 3",
   "language": "python",
   "name": "python3"
  },
  "language_info": {
   "codemirror_mode": {
    "name": "ipython",
    "version": 2
   },
   "file_extension": ".py",
   "mimetype": "text/x-python",
   "name": "python",
   "nbconvert_exporter": "python",
   "pygments_lexer": "ipython2",
   "version": "2.7.6"
  }
 },
 "nbformat": 4,
 "nbformat_minor": 5
}
